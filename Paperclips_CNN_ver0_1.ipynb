{
  "nbformat": 4,
  "nbformat_minor": 0,
  "metadata": {
    "colab": {
      "provenance": [],
      "machine_shape": "hm"
    },
    "kernelspec": {
      "name": "python3",
      "display_name": "Python 3"
    },
    "accelerator": "GPU",
    "gpuClass": "standard"
  },
  "cells": [
    {
      "cell_type": "markdown",
      "source": [
        "## About: Use papeclips images to regress into values\n",
        "## Date: 31/03/23"
      ],
      "metadata": {
        "id": "z-ytn79nF68v"
      }
    },
    {
      "cell_type": "markdown",
      "source": [
        "An attempt to regress paperclips images into amount of visible paperclips on each image. Simple CNN used. Three channels used.\n",
        "\n",
        "Dataset author: Jeff Heaton <br/>\n",
        "Code inspired by: Jeff Heaton\n"
      ],
      "metadata": {
        "id": "ujVq0tieGqIC"
      }
    },
    {
      "cell_type": "code",
      "source": [
        "# importing necessary libraries\n",
        "import tensorflow as tf\n",
        "from tensorflow.keras.models import Sequential, Model\n",
        "from tensorflow.keras.layers import Dense, Flatten\n",
        "from tensorflow.keras.preprocessing.image import ImageDataGenerator\n",
        "\n",
        "import numpy as np\n",
        "import pandas as pd\n",
        "import os"
      ],
      "metadata": {
        "id": "aguBPDLAGdX4"
      },
      "execution_count": null,
      "outputs": []
    },
    {
      "cell_type": "code",
      "source": [
        "# connect to google drive\n",
        "from google.colab import drive\n",
        "drive.mount('/content/drive')"
      ],
      "metadata": {
        "colab": {
          "base_uri": "https://localhost:8080/"
        },
        "id": "VKs4lDxuIqV-",
        "outputId": "5c0d643f-5c85-4bc6-90a1-4b12ea106523"
      },
      "execution_count": null,
      "outputs": [
        {
          "output_type": "stream",
          "name": "stdout",
          "text": [
            "Mounted at /content/drive\n"
          ]
        }
      ]
    },
    {
      "cell_type": "code",
      "source": [
        "# read csv with descriptors\n",
        "df = pd.read_csv(\"/content/drive/My Drive/paperclips_dataset/train.csv\", na_values=['NA', '?'])\n",
        "df['filename'] = 'clips-'+df['id'].astype(str)+'.png'\n",
        "df.head(5)"
      ],
      "metadata": {
        "id": "vFrYLt7_KKub",
        "colab": {
          "base_uri": "https://localhost:8080/",
          "height": 206
        },
        "outputId": "09b2e206-17c1-45d6-fc0b-31b11f4ca74d"
      },
      "execution_count": null,
      "outputs": [
        {
          "output_type": "execute_result",
          "data": {
            "text/plain": [
              "      id  clip_count         filename\n",
              "0  30001          11  clips-30001.png\n",
              "1  30002           2  clips-30002.png\n",
              "2  30003          26  clips-30003.png\n",
              "3  30004          41  clips-30004.png\n",
              "4  30005          49  clips-30005.png"
            ],
            "text/html": [
              "\n",
              "  <div id=\"df-1908f715-bcb8-481a-8c13-3c328087e48f\">\n",
              "    <div class=\"colab-df-container\">\n",
              "      <div>\n",
              "<style scoped>\n",
              "    .dataframe tbody tr th:only-of-type {\n",
              "        vertical-align: middle;\n",
              "    }\n",
              "\n",
              "    .dataframe tbody tr th {\n",
              "        vertical-align: top;\n",
              "    }\n",
              "\n",
              "    .dataframe thead th {\n",
              "        text-align: right;\n",
              "    }\n",
              "</style>\n",
              "<table border=\"1\" class=\"dataframe\">\n",
              "  <thead>\n",
              "    <tr style=\"text-align: right;\">\n",
              "      <th></th>\n",
              "      <th>id</th>\n",
              "      <th>clip_count</th>\n",
              "      <th>filename</th>\n",
              "    </tr>\n",
              "  </thead>\n",
              "  <tbody>\n",
              "    <tr>\n",
              "      <th>0</th>\n",
              "      <td>30001</td>\n",
              "      <td>11</td>\n",
              "      <td>clips-30001.png</td>\n",
              "    </tr>\n",
              "    <tr>\n",
              "      <th>1</th>\n",
              "      <td>30002</td>\n",
              "      <td>2</td>\n",
              "      <td>clips-30002.png</td>\n",
              "    </tr>\n",
              "    <tr>\n",
              "      <th>2</th>\n",
              "      <td>30003</td>\n",
              "      <td>26</td>\n",
              "      <td>clips-30003.png</td>\n",
              "    </tr>\n",
              "    <tr>\n",
              "      <th>3</th>\n",
              "      <td>30004</td>\n",
              "      <td>41</td>\n",
              "      <td>clips-30004.png</td>\n",
              "    </tr>\n",
              "    <tr>\n",
              "      <th>4</th>\n",
              "      <td>30005</td>\n",
              "      <td>49</td>\n",
              "      <td>clips-30005.png</td>\n",
              "    </tr>\n",
              "  </tbody>\n",
              "</table>\n",
              "</div>\n",
              "      <button class=\"colab-df-convert\" onclick=\"convertToInteractive('df-1908f715-bcb8-481a-8c13-3c328087e48f')\"\n",
              "              title=\"Convert this dataframe to an interactive table.\"\n",
              "              style=\"display:none;\">\n",
              "        \n",
              "  <svg xmlns=\"http://www.w3.org/2000/svg\" height=\"24px\"viewBox=\"0 0 24 24\"\n",
              "       width=\"24px\">\n",
              "    <path d=\"M0 0h24v24H0V0z\" fill=\"none\"/>\n",
              "    <path d=\"M18.56 5.44l.94 2.06.94-2.06 2.06-.94-2.06-.94-.94-2.06-.94 2.06-2.06.94zm-11 1L8.5 8.5l.94-2.06 2.06-.94-2.06-.94L8.5 2.5l-.94 2.06-2.06.94zm10 10l.94 2.06.94-2.06 2.06-.94-2.06-.94-.94-2.06-.94 2.06-2.06.94z\"/><path d=\"M17.41 7.96l-1.37-1.37c-.4-.4-.92-.59-1.43-.59-.52 0-1.04.2-1.43.59L10.3 9.45l-7.72 7.72c-.78.78-.78 2.05 0 2.83L4 21.41c.39.39.9.59 1.41.59.51 0 1.02-.2 1.41-.59l7.78-7.78 2.81-2.81c.8-.78.8-2.07 0-2.86zM5.41 20L4 18.59l7.72-7.72 1.47 1.35L5.41 20z\"/>\n",
              "  </svg>\n",
              "      </button>\n",
              "      \n",
              "  <style>\n",
              "    .colab-df-container {\n",
              "      display:flex;\n",
              "      flex-wrap:wrap;\n",
              "      gap: 12px;\n",
              "    }\n",
              "\n",
              "    .colab-df-convert {\n",
              "      background-color: #E8F0FE;\n",
              "      border: none;\n",
              "      border-radius: 50%;\n",
              "      cursor: pointer;\n",
              "      display: none;\n",
              "      fill: #1967D2;\n",
              "      height: 32px;\n",
              "      padding: 0 0 0 0;\n",
              "      width: 32px;\n",
              "    }\n",
              "\n",
              "    .colab-df-convert:hover {\n",
              "      background-color: #E2EBFA;\n",
              "      box-shadow: 0px 1px 2px rgba(60, 64, 67, 0.3), 0px 1px 3px 1px rgba(60, 64, 67, 0.15);\n",
              "      fill: #174EA6;\n",
              "    }\n",
              "\n",
              "    [theme=dark] .colab-df-convert {\n",
              "      background-color: #3B4455;\n",
              "      fill: #D2E3FC;\n",
              "    }\n",
              "\n",
              "    [theme=dark] .colab-df-convert:hover {\n",
              "      background-color: #434B5C;\n",
              "      box-shadow: 0px 1px 3px 1px rgba(0, 0, 0, 0.15);\n",
              "      filter: drop-shadow(0px 1px 2px rgba(0, 0, 0, 0.3));\n",
              "      fill: #FFFFFF;\n",
              "    }\n",
              "  </style>\n",
              "\n",
              "      <script>\n",
              "        const buttonEl =\n",
              "          document.querySelector('#df-1908f715-bcb8-481a-8c13-3c328087e48f button.colab-df-convert');\n",
              "        buttonEl.style.display =\n",
              "          google.colab.kernel.accessAllowed ? 'block' : 'none';\n",
              "\n",
              "        async function convertToInteractive(key) {\n",
              "          const element = document.querySelector('#df-1908f715-bcb8-481a-8c13-3c328087e48f');\n",
              "          const dataTable =\n",
              "            await google.colab.kernel.invokeFunction('convertToInteractive',\n",
              "                                                     [key], {});\n",
              "          if (!dataTable) return;\n",
              "\n",
              "          const docLinkHtml = 'Like what you see? Visit the ' +\n",
              "            '<a target=\"_blank\" href=https://colab.research.google.com/notebooks/data_table.ipynb>data table notebook</a>'\n",
              "            + ' to learn more about interactive tables.';\n",
              "          element.innerHTML = '';\n",
              "          dataTable['output_type'] = 'display_data';\n",
              "          await google.colab.output.renderOutput(dataTable, element);\n",
              "          const docLink = document.createElement('div');\n",
              "          docLink.innerHTML = docLinkHtml;\n",
              "          element.appendChild(docLink);\n",
              "        }\n",
              "      </script>\n",
              "    </div>\n",
              "  </div>\n",
              "  "
            ]
          },
          "metadata": {},
          "execution_count": 3
        }
      ]
    },
    {
      "cell_type": "code",
      "source": [
        "# specify percentage of data used for training\n",
        "TRAIN_PCT = 0.9\n",
        "TRAIN_CUT = int(len(df) * TRAIN_PCT)\n",
        "\n",
        "# split the data to train and validation\n",
        "df_train = df[0:TRAIN_CUT]\n",
        "df_validate = df[TRAIN_CUT:]\n",
        "\n",
        "TEST_PCT = 0.9\n",
        "TEST_CUT = int(len(df_train) * TEST_PCT)\n",
        "\n",
        "df_test = df_train[TEST_CUT:]\n",
        "df_train = df_train[0:TEST_CUT]\n",
        "\n",
        "# print their sizes\n",
        "print(f'Train size: {len(df_train)}')\n",
        "print(f'Validation size: {len(df_validate)}')\n",
        "print(f'Test size: {len(df_test)}')"
      ],
      "metadata": {
        "id": "1vAIRytlq2xR",
        "colab": {
          "base_uri": "https://localhost:8080/"
        },
        "outputId": "fb4e44ca-f0b2-49fc-caac-7cf98145e090"
      },
      "execution_count": null,
      "outputs": [
        {
          "output_type": "stream",
          "name": "stdout",
          "text": [
            "Train size: 16200\n",
            "Validation size: 2000\n",
            "Test size: 1800\n"
          ]
        }
      ]
    },
    {
      "cell_type": "code",
      "source": [
        "# specify values that go into ImageDataGenerator and CNN model\n",
        "IMAGES_DIR = r'/content/drive/My Drive/paperclips_dataset/clips-data-2020/clips'\n",
        "Y_COL = \"clip_count\"\n",
        "HEIGHT = 100\n",
        "WIDTH = 100\n",
        "BATCH = 32\n",
        "EPOCHS = 10"
      ],
      "metadata": {
        "id": "pPLoQ_jhsB8N"
      },
      "execution_count": null,
      "outputs": []
    },
    {
      "cell_type": "code",
      "source": [
        "# improve amount of data using ImageDataGenerator\n",
        "training_datagen = ImageDataGenerator(\n",
        "    rescale = 1./255,\n",
        "    horizontal_flip=True,\n",
        "    vertical_flip=True,\n",
        "    fill_mode='nearest'\n",
        ")\n",
        "\n",
        "train_generator = training_datagen.flow_from_dataframe(\n",
        "    dataframe=df_train,\n",
        "    directory=IMAGES_DIR,\n",
        "    x_col=\"filename\",\n",
        "    y_col=Y_COL,\n",
        "    target_size= (HEIGHT,WIDTH),\n",
        "    batch_size=BATCH,\n",
        "    class_mode='other'\n",
        ")\n",
        "\n",
        "validation_datagen = ImageDataGenerator(rescale = 1./255)\n",
        "\n",
        "val_generator = validation_datagen.flow_from_dataframe(\n",
        "        dataframe=df_validate,\n",
        "        directory=IMAGES_DIR,\n",
        "        x_col=\"filename\",\n",
        "        y_col=Y_COL,\n",
        "        target_size=(HEIGHT,WIDTH),\n",
        "        class_mode='other')"
      ],
      "metadata": {
        "colab": {
          "base_uri": "https://localhost:8080/"
        },
        "id": "BTZtD9omA48q",
        "outputId": "6c19847b-041e-43c8-d822-b5aa5813ad88"
      },
      "execution_count": null,
      "outputs": [
        {
          "output_type": "stream",
          "name": "stdout",
          "text": [
            "Found 16199 validated image filenames.\n"
          ]
        },
        {
          "output_type": "stream",
          "name": "stderr",
          "text": [
            "/usr/local/lib/python3.9/dist-packages/keras/preprocessing/image.py:1137: UserWarning: Found 1 invalid image filename(s) in x_col=\"filename\". These filename(s) will be ignored.\n",
            "  warnings.warn(\n"
          ]
        },
        {
          "output_type": "stream",
          "name": "stdout",
          "text": [
            "Found 2000 validated image filenames.\n"
          ]
        }
      ]
    },
    {
      "cell_type": "code",
      "source": [
        "# create the model with early stopping\n",
        "from tensorflow.keras.callbacks import EarlyStopping\n",
        "\n",
        "model = tf.keras.models.Sequential([\n",
        "    # Note the input shape is the desired size with 3 bytes color\n",
        "    # This is the first convolution\n",
        "    tf.keras.layers.Conv2D(64, (3,3), activation='relu', input_shape=(HEIGHT, WIDTH, 3)),\n",
        "    tf.keras.layers.MaxPooling2D(2, 2),\n",
        "    # The second convolution\n",
        "    tf.keras.layers.Conv2D(64, (3,3), activation='relu'),\n",
        "    tf.keras.layers.MaxPooling2D(2,2),\n",
        "    tf.keras.layers.Flatten(),\n",
        "    # 512 neuron hidden layer\n",
        "    tf.keras.layers.Dense(512, activation='relu'),\n",
        "    tf.keras.layers.Dense(1, activation='linear')\n",
        "])\n",
        "\n",
        "\n",
        "model.summary()\n",
        "epoch_steps = 250 # needed for 2.2\n",
        "validation_steps = len(df_validate)\n",
        "model.compile(loss = 'mean_squared_error', optimizer='adam')\n",
        "monitor = EarlyStopping(monitor='val_loss', min_delta=1e-3, patience=5, verbose=1, mode='auto',\n",
        "        restore_best_weights=True)\n",
        "history = model.fit(train_generator,  \n",
        "  verbose = 1, \n",
        "  validation_data=val_generator, callbacks=[monitor], epochs=EPOCHS)\n",
        "#  steps_per_epoch=epoch_steps, validation_steps=validation_steps, # needed for 2.2\n"
      ],
      "metadata": {
        "colab": {
          "base_uri": "https://localhost:8080/"
        },
        "id": "SkH8zAemvitC",
        "outputId": "36ea8342-9b99-46f6-8a5f-c58b2cd931a1"
      },
      "execution_count": null,
      "outputs": [
        {
          "output_type": "stream",
          "name": "stdout",
          "text": [
            "Model: \"sequential\"\n",
            "_________________________________________________________________\n",
            " Layer (type)                Output Shape              Param #   \n",
            "=================================================================\n",
            " conv2d (Conv2D)             (None, 98, 98, 64)        1792      \n",
            "                                                                 \n",
            " max_pooling2d (MaxPooling2D  (None, 49, 49, 64)       0         \n",
            " )                                                               \n",
            "                                                                 \n",
            " conv2d_1 (Conv2D)           (None, 47, 47, 64)        36928     \n",
            "                                                                 \n",
            " max_pooling2d_1 (MaxPooling  (None, 23, 23, 64)       0         \n",
            " 2D)                                                             \n",
            "                                                                 \n",
            " flatten (Flatten)           (None, 33856)             0         \n",
            "                                                                 \n",
            " dense (Dense)               (None, 512)               17334784  \n",
            "                                                                 \n",
            " dense_1 (Dense)             (None, 1)                 513       \n",
            "                                                                 \n",
            "=================================================================\n",
            "Total params: 17,374,017\n",
            "Trainable params: 17,374,017\n",
            "Non-trainable params: 0\n",
            "_________________________________________________________________\n",
            "Epoch 1/10\n",
            "507/507 [==============================] - 5447s 11s/step - loss: 99.4704 - val_loss: 23.4910\n",
            "Epoch 2/10\n",
            "507/507 [==============================] - 738s 1s/step - loss: 22.2824 - val_loss: 58.0307\n",
            "Epoch 3/10\n",
            "507/507 [==============================] - 741s 1s/step - loss: 16.8405 - val_loss: 23.4714\n",
            "Epoch 4/10\n",
            "507/507 [==============================] - 742s 1s/step - loss: 17.4031 - val_loss: 12.0620\n",
            "Epoch 5/10\n",
            "507/507 [==============================] - 749s 1s/step - loss: 14.0282 - val_loss: 17.9722\n",
            "Epoch 6/10\n",
            "507/507 [==============================] - 748s 1s/step - loss: 15.7747 - val_loss: 12.4983\n",
            "Epoch 7/10\n",
            "507/507 [==============================] - 743s 1s/step - loss: 13.3907 - val_loss: 11.8595\n",
            "Epoch 8/10\n",
            "507/507 [==============================] - 744s 1s/step - loss: 15.0497 - val_loss: 13.9366\n",
            "Epoch 9/10\n",
            "507/507 [==============================] - 751s 1s/step - loss: 13.4469 - val_loss: 14.3247\n",
            "Epoch 10/10\n",
            "507/507 [==============================] - 726s 1s/step - loss: 13.5214 - val_loss: 10.6076\n"
          ]
        }
      ]
    },
    {
      "cell_type": "code",
      "source": [
        "'''\n",
        "# loading test images paths into df\n",
        "# drop duplicates\n",
        "# add the column with target values\n",
        "TEST_IMAGES_DIR = '/content/drive/My Drive/tox_files/test_images'\n",
        "test_images = load_images_from_folder(TEST_IMAGES_DIR)\n",
        "df_test = pd.DataFrame (test_images, columns = ['filename', 'id'])\n",
        "df_test = df_test.drop_duplicates(subset=['id'])\n",
        "df_test = pd.merge(df_test,df[['id',Y_COL]],on='id', how='left')\n",
        "df_test.head(5)\n",
        "'''"
      ],
      "metadata": {
        "colab": {
          "base_uri": "https://localhost:8080/",
          "height": 55
        },
        "id": "-kGRNZ0D0k2E",
        "outputId": "4c9c4e05-77e8-4764-fd98-f699b1647479"
      },
      "execution_count": null,
      "outputs": [
        {
          "output_type": "execute_result",
          "data": {
            "text/plain": [
              "\"\\n# loading test images paths into df\\n# drop duplicates\\n# add the column with target values\\nTEST_IMAGES_DIR = '/content/drive/My Drive/tox_files/test_images'\\ntest_images = load_images_from_folder(TEST_IMAGES_DIR)\\ndf_test = pd.DataFrame (test_images, columns = ['filename', 'id'])\\ndf_test = df_test.drop_duplicates(subset=['id'])\\ndf_test = pd.merge(df_test,df[['id',Y_COL]],on='id', how='left')\\ndf_test.head(5)\\n\""
            ],
            "application/vnd.google.colaboratory.intrinsic+json": {
              "type": "string"
            }
          },
          "metadata": {},
          "execution_count": 10
        }
      ]
    },
    {
      "cell_type": "code",
      "source": [
        "# using ImageDataGenerator on test images\n",
        "test_datagen = ImageDataGenerator(rescale = 1./255)\n",
        "\n",
        "test_generator = test_datagen.flow_from_dataframe(\n",
        "        dataframe=df_test,\n",
        "        directory=IMAGES_DIR,\n",
        "        x_col=\"filename\",\n",
        "        batch_size=1,\n",
        "        shuffle=False,\n",
        "        target_size=(HEIGHT,WIDTH),\n",
        "        class_mode=None)"
      ],
      "metadata": {
        "colab": {
          "base_uri": "https://localhost:8080/"
        },
        "id": "iSKP1nk2ws0g",
        "outputId": "cd00f5c1-e5d3-4ceb-f32d-c29d8269df7a"
      },
      "execution_count": null,
      "outputs": [
        {
          "output_type": "stream",
          "name": "stdout",
          "text": [
            "Found 1800 validated image filenames.\n"
          ]
        }
      ]
    },
    {
      "cell_type": "code",
      "source": [
        "# reseting the generator and predicting the values\n",
        "test_generator.reset()\n",
        "pred = model.predict(test_generator,steps=len(df_test))"
      ],
      "metadata": {
        "colab": {
          "base_uri": "https://localhost:8080/"
        },
        "id": "f66rRf4q07MX",
        "outputId": "86e11bb6-3898-4682-8291-1a0830fbd5bb"
      },
      "execution_count": null,
      "outputs": [
        {
          "output_type": "stream",
          "name": "stdout",
          "text": [
            "1800/1800 [==============================] - 545s 302ms/step\n"
          ]
        }
      ]
    },
    {
      "cell_type": "code",
      "source": [
        "# add new column with predicted values\n",
        "# predicted values should be beside actual values \n",
        "df_test['Predicted values'] = pred.flatten()\n",
        "df_test"
      ],
      "metadata": {
        "colab": {
          "base_uri": "https://localhost:8080/",
          "height": 423
        },
        "id": "vx0CxLDBAOVH",
        "outputId": "24a27e29-677b-4e80-8f5e-d72c1ada776e"
      },
      "execution_count": null,
      "outputs": [
        {
          "output_type": "execute_result",
          "data": {
            "text/plain": [
              "          id  clip_count         filename  Predicted values\n",
              "16200  46201           7  clips-46201.png          7.295506\n",
              "16201  46202          56  clips-46202.png         55.417664\n",
              "16202  46203           5  clips-46203.png          5.841433\n",
              "16203  46204          36  clips-46204.png         36.890785\n",
              "16204  46205          71  clips-46205.png         67.102493\n",
              "...      ...         ...              ...               ...\n",
              "17995  47996           9  clips-47996.png          8.777569\n",
              "17996  47997          45  clips-47997.png         50.643719\n",
              "17997  47998          52  clips-47998.png         50.076843\n",
              "17998  47999          63  clips-47999.png         49.328999\n",
              "17999  48000          43  clips-48000.png         37.818325\n",
              "\n",
              "[1800 rows x 4 columns]"
            ],
            "text/html": [
              "\n",
              "  <div id=\"df-bf3f7a71-3c54-4223-ad55-1faeecbecc99\">\n",
              "    <div class=\"colab-df-container\">\n",
              "      <div>\n",
              "<style scoped>\n",
              "    .dataframe tbody tr th:only-of-type {\n",
              "        vertical-align: middle;\n",
              "    }\n",
              "\n",
              "    .dataframe tbody tr th {\n",
              "        vertical-align: top;\n",
              "    }\n",
              "\n",
              "    .dataframe thead th {\n",
              "        text-align: right;\n",
              "    }\n",
              "</style>\n",
              "<table border=\"1\" class=\"dataframe\">\n",
              "  <thead>\n",
              "    <tr style=\"text-align: right;\">\n",
              "      <th></th>\n",
              "      <th>id</th>\n",
              "      <th>clip_count</th>\n",
              "      <th>filename</th>\n",
              "      <th>Predicted values</th>\n",
              "    </tr>\n",
              "  </thead>\n",
              "  <tbody>\n",
              "    <tr>\n",
              "      <th>16200</th>\n",
              "      <td>46201</td>\n",
              "      <td>7</td>\n",
              "      <td>clips-46201.png</td>\n",
              "      <td>7.295506</td>\n",
              "    </tr>\n",
              "    <tr>\n",
              "      <th>16201</th>\n",
              "      <td>46202</td>\n",
              "      <td>56</td>\n",
              "      <td>clips-46202.png</td>\n",
              "      <td>55.417664</td>\n",
              "    </tr>\n",
              "    <tr>\n",
              "      <th>16202</th>\n",
              "      <td>46203</td>\n",
              "      <td>5</td>\n",
              "      <td>clips-46203.png</td>\n",
              "      <td>5.841433</td>\n",
              "    </tr>\n",
              "    <tr>\n",
              "      <th>16203</th>\n",
              "      <td>46204</td>\n",
              "      <td>36</td>\n",
              "      <td>clips-46204.png</td>\n",
              "      <td>36.890785</td>\n",
              "    </tr>\n",
              "    <tr>\n",
              "      <th>16204</th>\n",
              "      <td>46205</td>\n",
              "      <td>71</td>\n",
              "      <td>clips-46205.png</td>\n",
              "      <td>67.102493</td>\n",
              "    </tr>\n",
              "    <tr>\n",
              "      <th>...</th>\n",
              "      <td>...</td>\n",
              "      <td>...</td>\n",
              "      <td>...</td>\n",
              "      <td>...</td>\n",
              "    </tr>\n",
              "    <tr>\n",
              "      <th>17995</th>\n",
              "      <td>47996</td>\n",
              "      <td>9</td>\n",
              "      <td>clips-47996.png</td>\n",
              "      <td>8.777569</td>\n",
              "    </tr>\n",
              "    <tr>\n",
              "      <th>17996</th>\n",
              "      <td>47997</td>\n",
              "      <td>45</td>\n",
              "      <td>clips-47997.png</td>\n",
              "      <td>50.643719</td>\n",
              "    </tr>\n",
              "    <tr>\n",
              "      <th>17997</th>\n",
              "      <td>47998</td>\n",
              "      <td>52</td>\n",
              "      <td>clips-47998.png</td>\n",
              "      <td>50.076843</td>\n",
              "    </tr>\n",
              "    <tr>\n",
              "      <th>17998</th>\n",
              "      <td>47999</td>\n",
              "      <td>63</td>\n",
              "      <td>clips-47999.png</td>\n",
              "      <td>49.328999</td>\n",
              "    </tr>\n",
              "    <tr>\n",
              "      <th>17999</th>\n",
              "      <td>48000</td>\n",
              "      <td>43</td>\n",
              "      <td>clips-48000.png</td>\n",
              "      <td>37.818325</td>\n",
              "    </tr>\n",
              "  </tbody>\n",
              "</table>\n",
              "<p>1800 rows × 4 columns</p>\n",
              "</div>\n",
              "      <button class=\"colab-df-convert\" onclick=\"convertToInteractive('df-bf3f7a71-3c54-4223-ad55-1faeecbecc99')\"\n",
              "              title=\"Convert this dataframe to an interactive table.\"\n",
              "              style=\"display:none;\">\n",
              "        \n",
              "  <svg xmlns=\"http://www.w3.org/2000/svg\" height=\"24px\"viewBox=\"0 0 24 24\"\n",
              "       width=\"24px\">\n",
              "    <path d=\"M0 0h24v24H0V0z\" fill=\"none\"/>\n",
              "    <path d=\"M18.56 5.44l.94 2.06.94-2.06 2.06-.94-2.06-.94-.94-2.06-.94 2.06-2.06.94zm-11 1L8.5 8.5l.94-2.06 2.06-.94-2.06-.94L8.5 2.5l-.94 2.06-2.06.94zm10 10l.94 2.06.94-2.06 2.06-.94-2.06-.94-.94-2.06-.94 2.06-2.06.94z\"/><path d=\"M17.41 7.96l-1.37-1.37c-.4-.4-.92-.59-1.43-.59-.52 0-1.04.2-1.43.59L10.3 9.45l-7.72 7.72c-.78.78-.78 2.05 0 2.83L4 21.41c.39.39.9.59 1.41.59.51 0 1.02-.2 1.41-.59l7.78-7.78 2.81-2.81c.8-.78.8-2.07 0-2.86zM5.41 20L4 18.59l7.72-7.72 1.47 1.35L5.41 20z\"/>\n",
              "  </svg>\n",
              "      </button>\n",
              "      \n",
              "  <style>\n",
              "    .colab-df-container {\n",
              "      display:flex;\n",
              "      flex-wrap:wrap;\n",
              "      gap: 12px;\n",
              "    }\n",
              "\n",
              "    .colab-df-convert {\n",
              "      background-color: #E8F0FE;\n",
              "      border: none;\n",
              "      border-radius: 50%;\n",
              "      cursor: pointer;\n",
              "      display: none;\n",
              "      fill: #1967D2;\n",
              "      height: 32px;\n",
              "      padding: 0 0 0 0;\n",
              "      width: 32px;\n",
              "    }\n",
              "\n",
              "    .colab-df-convert:hover {\n",
              "      background-color: #E2EBFA;\n",
              "      box-shadow: 0px 1px 2px rgba(60, 64, 67, 0.3), 0px 1px 3px 1px rgba(60, 64, 67, 0.15);\n",
              "      fill: #174EA6;\n",
              "    }\n",
              "\n",
              "    [theme=dark] .colab-df-convert {\n",
              "      background-color: #3B4455;\n",
              "      fill: #D2E3FC;\n",
              "    }\n",
              "\n",
              "    [theme=dark] .colab-df-convert:hover {\n",
              "      background-color: #434B5C;\n",
              "      box-shadow: 0px 1px 3px 1px rgba(0, 0, 0, 0.15);\n",
              "      filter: drop-shadow(0px 1px 2px rgba(0, 0, 0, 0.3));\n",
              "      fill: #FFFFFF;\n",
              "    }\n",
              "  </style>\n",
              "\n",
              "      <script>\n",
              "        const buttonEl =\n",
              "          document.querySelector('#df-bf3f7a71-3c54-4223-ad55-1faeecbecc99 button.colab-df-convert');\n",
              "        buttonEl.style.display =\n",
              "          google.colab.kernel.accessAllowed ? 'block' : 'none';\n",
              "\n",
              "        async function convertToInteractive(key) {\n",
              "          const element = document.querySelector('#df-bf3f7a71-3c54-4223-ad55-1faeecbecc99');\n",
              "          const dataTable =\n",
              "            await google.colab.kernel.invokeFunction('convertToInteractive',\n",
              "                                                     [key], {});\n",
              "          if (!dataTable) return;\n",
              "\n",
              "          const docLinkHtml = 'Like what you see? Visit the ' +\n",
              "            '<a target=\"_blank\" href=https://colab.research.google.com/notebooks/data_table.ipynb>data table notebook</a>'\n",
              "            + ' to learn more about interactive tables.';\n",
              "          element.innerHTML = '';\n",
              "          dataTable['output_type'] = 'display_data';\n",
              "          await google.colab.output.renderOutput(dataTable, element);\n",
              "          const docLink = document.createElement('div');\n",
              "          docLink.innerHTML = docLinkHtml;\n",
              "          element.appendChild(docLink);\n",
              "        }\n",
              "      </script>\n",
              "    </div>\n",
              "  </div>\n",
              "  "
            ]
          },
          "metadata": {},
          "execution_count": 13
        }
      ]
    }
  ]
}